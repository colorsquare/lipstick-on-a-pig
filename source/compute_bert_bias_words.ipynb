{
 "cells": [
  {
   "cell_type": "markdown",
   "metadata": {},
   "source": [
    "# Requirements"
   ]
  },
  {
   "cell_type": "code",
   "execution_count": null,
   "metadata": {},
   "outputs": [],
   "source": [
    "%pip install transformers\n",
    "%pip install torch\n",
    "%pip install pickle5\n",
    "%pip install mpld3\n",
    "%pip install scikit-learn"
   ]
  },
  {
   "cell_type": "markdown",
   "metadata": {},
   "source": [
    "# Load pretrained Bert model and tokenizer"
   ]
  },
  {
   "cell_type": "code",
   "execution_count": null,
   "metadata": {},
   "outputs": [],
   "source": [
    "import torch\n",
    "from transformers import BertTokenizer, BertModel\n",
    "\n",
    "# OPTIONAL: if you want to have more information on what's happening, activate the logger as follows\n",
    "import logging\n",
    "#logging.basicConfig(level=logging.INFO)\n",
    "\n",
    "import matplotlib.pyplot as plt\n",
    "%matplotlib inline\n",
    "\n",
    "# Load pre-trained model (weights)\n",
    "model = BertModel.from_pretrained('bert-base-uncased',\n",
    "                                  output_hidden_states = True, # Whether the model returns all hidden-states.\n",
    "                                  )\n",
    "device = torch.device(\"cuda\" if torch.cuda.is_available() else \"cpu\")\n",
    "model=model.to(device)\n",
    "model.eval()\n",
    "tokenizer = BertTokenizer.from_pretrained('bert-base-uncased')"
   ]
  },
  {
   "cell_type": "markdown",
   "metadata": {},
   "source": [
    "# open file and extract bert embedding function"
   ]
  },
  {
   "cell_type": "code",
   "execution_count": null,
   "metadata": {},
   "outputs": [],
   "source": [
    "import pickle5 as pickle\n",
    "from tqdm import tqdm \n",
    "\n",
    "def dump_pklfile(file, filepath, size):\n",
    "\twith open(filepath, \"wb\") as f:\n",
    "\t\tif (size == 0):\n",
    "\t\t\tpickle.dump((file), f)\n",
    "\t\t\treturn\n",
    "\t\tif(size > 0):\n",
    "\t\t\tpickle.dump((file[:size]), f)\n",
    "\t\t\treturn\n",
    "\t\telse:\n",
    "\t\t\tpickle.dump((file[size:]), f)\n",
    "\t\t\treturn\n",
    "    \n",
    "def open_pklfile(filepath, size):\n",
    "\twith open(filepath, \"rb\") as f:\n",
    "\t\tif (size == 0):\n",
    "\t\t\treturn pickle.load(f)\n",
    "\t\treturn (pickle.load(f))[0:size]\n",
    "\n",
    "def extract_bert_embeddings(word_list):\n",
    "\t#init for stacking embeddings\n",
    "\tembeddings = torch.empty(0, device=device)\n",
    "\tfor word in tqdm(word_list):\n",
    "\t\t\n",
    "\t\tif (word in '___'):\n",
    "\t\t\tcontinue\n",
    "\t\t# Map the token strings to their vocabulary indeces.\n",
    "\t\tmarked_text = \"[CLS] \" + word + \" [SEP]\"\n",
    "\t\ttokenized_text = tokenizer.tokenize(marked_text)\n",
    "\t\t\n",
    "\t\t# handling such as \"wedding_dress\"\n",
    "\t\ttokenized_text = [token for token in tokenized_text if token != '_']\n",
    "\n",
    "\t\t# Split the sentence into tokens.\n",
    "\t\tindexed_tokens = tokenizer.convert_tokens_to_ids(tokenized_text)\n",
    "\t\tsegments_ids = [1] * len(tokenized_text)\n",
    "\n",
    "\t\t# Convert inputs to PyTorch tensors\n",
    "\t\ttokens_tensor = torch.tensor([indexed_tokens], device=device)\n",
    "\t\tsegments_tensors = torch.tensor([segments_ids], device=device)\n",
    "\t\t\n",
    "\t\t# Put the model in \"evaluation\" mode,meaning feed-forward operation.\n",
    "\t\tmodel.eval()\n",
    "\n",
    "\t\t#Run the text through BERT, get the output and collect all of the hidden states produced from all 12 layers.\n",
    "\t\twith torch.no_grad():\n",
    "\t\t\toutputs = model(tokens_tensor, segments_tensors)\n",
    "\n",
    "\t\t\tlast_four_hidden_states = outputs[2][-4:]\n",
    "\t\t\tconcated_hidden_states = torch.cat(last_four_hidden_states, dim = 2)\n",
    "\n",
    "\t\t\tfirst_last = torch.add(concated_hidden_states[:, 1], concated_hidden_states[:, -2])\n",
    "\t\t\tembeddings = torch.cat([embeddings, first_last])\n",
    "\n",
    "\tprint(embeddings.shape)\n",
    "\treturn torch.squeeze(embeddings)"
   ]
  },
  {
   "cell_type": "markdown",
   "metadata": {},
   "source": [
    "# computing bert bias function"
   ]
  },
  {
   "cell_type": "code",
   "execution_count": null,
   "metadata": {},
   "outputs": [],
   "source": [
    "import numpy as np\n",
    "from torch import linalg as LA\n",
    "import scipy.stats\n",
    "import json \n",
    "import codecs\n",
    "\n",
    "def normalize(wv):    \n",
    "    # normalize vectors\n",
    "    # norms = np.apply_along_axis(LA.norm, 1, wv)\n",
    "    norms=LA.norm(wv, dim=1)\n",
    "    wv = wv / norms[:, np.newaxis]\n",
    "    return wv\n",
    "\n",
    "# compute bias from bert with he-she\n",
    "def compute_bias_by_projection_heshe(vocab, lim_wv, gender_word_embedding):\n",
    "    print(lim_wv.shape)\n",
    "    print(gender_word_embedding[0].shape)\n",
    "    males = torch.tensordot(lim_wv, gender_word_embedding[0], dims=1)\n",
    "    females = torch.tensordot(lim_wv, gender_word_embedding[1], dims=1)\n",
    "    d = {}\n",
    "    for w,m,f in zip(vocab, males, females):\n",
    "        d[w] = m-f\n",
    "    return d\n",
    "\n",
    "# compute bias from bert with seat method\n",
    "def compute_bias_by_projection_seat(vocab, lim_wv, gender_word_embedding):\n",
    "    return\n",
    "\n",
    "def extract_professions():\n",
    "    professions = []\n",
    "    with codecs.open('../data/lists/professions.json', 'r', 'utf-8') as f:\n",
    "        professions_data = json.load(f)\n",
    "    for item in professions_data:\n",
    "        professions.append(item[0].strip())\n",
    "    return professions"
   ]
  },
  {
   "cell_type": "markdown",
   "metadata": {},
   "source": [
    "## gender biased words computed on bert (2016 words vocab)"
   ]
  },
  {
   "cell_type": "code",
   "execution_count": null,
   "metadata": {},
   "outputs": [],
   "source": [
    "vocab = open_pklfile(\"../data/extracted/2016_restricted_vocab.pkl\", 0)\n",
    "lim_wv = extract_bert_embeddings(vocab)\n",
    "dump_pklfile(lim_wv, \"../data/extracted/2016_restricted_embeddings.pkl\", 2500)\n",
    "lim_wv = normalize(lim_wv)\n",
    "w2i = {w: i for i, w in enumerate(vocab)}"
   ]
  },
  {
   "cell_type": "code",
   "execution_count": null,
   "metadata": {},
   "outputs": [],
   "source": [
    "with open(\"../data/lists/male_word_file.txt\", 'r') as f:\n",
    "  male_words = [word.strip() for word in f.readlines()]\n",
    "\n",
    "with open(\"../data/lists/female_word_file.txt\", 'r') as f:\n",
    "  female_words = [word.strip() for word in f.readlines()]\n",
    "\n",
    "male_embeddings = extract_bert_embeddings(male_words)\n",
    "female_embeddings = extract_bert_embeddings(female_words)\n",
    "\n",
    "male_embedding = torch.sum(male_embeddings, dim = 0, keepdim = True)\n",
    "female_embedding = torch.sum(female_embeddings, dim = 0, keepdim = True)\n",
    "\n",
    "male_embeddings = normalize(male_embeddings)\n",
    "female_embeddings = normalize(female_embeddings)\n",
    "\n",
    "gender_word_embedding = torch.cat((male_embedding, female_embedding), 0)\n",
    "\n",
    "gender_bias_all = compute_bias_by_projection_heshe(vocab, lim_wv, gender_word_embedding)"
   ]
  },
  {
   "cell_type": "code",
   "execution_count": null,
   "metadata": {},
   "outputs": [],
   "source": [
    "import operator\n",
    "sorted_g = sorted(gender_bias_all.items(), key=operator.itemgetter(1))\n",
    "for w in sorted_g[:2500]:\n",
    "    word2emb = {w[0]: lim_wv[w2i[w[0]]]}\n",
    "dump_pklfile(sorted_g, \"../data/extracted/bert_2016_female_2500.pkl\", 2500)\n",
    "\n",
    "sorted_g = sorted(gender_bias_all.items(), key=operator.itemgetter(1), reverse=True)\n",
    "for w in sorted_g[:2500]:\n",
    "    word2emb = {w[0]: lim_wv[w2i[w[0]]]}\n",
    "dump_pklfile(sorted_g, \"../data/extracted/bert_2016_male_2500.pkl\", 2500)"
   ]
  },
  {
   "cell_type": "markdown",
   "metadata": {},
   "source": [
    "## gender biased words computed on bert (2018 words vocab)"
   ]
  },
  {
   "cell_type": "code",
   "execution_count": null,
   "metadata": {},
   "outputs": [],
   "source": [
    "vocab = open_pklfile(\"../data/extracted/2018_restricted_vocab.pkl\", 0)\n",
    "lim_wv = extract_bert_embeddings(vocab)\n",
    "dump_pklfile(lim_wv, \"../data/extracted/2018_restricted_embeddings.pkl\", 2500)\n",
    "lim_wv = normalize(lim_wv)\n",
    "w2i = {w: i for i, w in enumerate(vocab)}"
   ]
  },
  {
   "cell_type": "code",
   "execution_count": null,
   "metadata": {},
   "outputs": [],
   "source": [
    "with open(\"../data/lists/male_word_file.txt\", 'r') as f:\n",
    "  male_words = [word.strip() for word in f.readlines()]\n",
    "\n",
    "with open(\"../data/lists/female_word_file.txt\", 'r') as f:\n",
    "  female_words = [word.strip() for word in f.readlines()]\n",
    "\n",
    "male_embeddings = extract_bert_embeddings(male_words)\n",
    "female_embeddings = extract_bert_embeddings(female_words)\n",
    "\n",
    "male_embedding = torch.sum(male_embeddings, dim = 0, keepdim = True)\n",
    "female_embedding = torch.sum(female_embeddings, dim = 0, keepdim = True)\n",
    "\n",
    "male_embeddings = normalize(male_embeddings)\n",
    "female_embeddings = normalize(female_embeddings)\n",
    "\n",
    "gender_word_embedding = torch.cat((male_embedding, female_embedding), 0)\n",
    "\n",
    "gender_bias_all = compute_bias_by_projection_heshe(vocab, lim_wv, gender_word_embedding)"
   ]
  },
  {
   "cell_type": "code",
   "execution_count": null,
   "metadata": {},
   "outputs": [],
   "source": [
    "import operator\n",
    "sorted_g = sorted(gender_bias_all.items(), key=operator.itemgetter(1))\n",
    "for w in sorted_g[:2500]:\n",
    "    word2emb = {w[0]: lim_wv[w2i[w[0]]]}\n",
    "dump_pklfile(sorted_g, \"../data/extracted/bert_2018_female_2500.pkl\", 2500)\n",
    "\n",
    "sorted_g = sorted(gender_bias_all.items(), key=operator.itemgetter(1), reverse=True)\n",
    "for w in sorted_g[:2500]:\n",
    "    word2emb = {w[0]: lim_wv[w2i[w[0]]]}\n",
    "dump_pklfile(sorted_g, \"../data/extracted/bert_2018_male_2500.pkl\", 2500)"
   ]
  },
  {
   "cell_type": "code",
   "execution_count": null,
   "metadata": {},
   "outputs": [],
   "source": [
    "with open(\"../data/lists/male_word_file.txt\", 'r') as f:\n",
    "  male_words = [word.strip() for word in f.readlines()]\n",
    "male_word_embs = extract_bert_embeddings(male_words)\n",
    "for i in range(len(male_words)):\n",
    "  malew2emb = {male_words[i]: male_word_embs[i]}\n",
    "dump_pklfile(male_words, \"../data/extracted/male_word_file_embeddings.pkl\",0 )\n",
    "\n",
    "\n",
    "with open(\"../data/lists/female_word_file.txt\", 'r') as f:\n",
    "  female_words = [word.strip() for word in f.readlines()]\n",
    "female_word_embs = extract_bert_embeddings(female_words)\n",
    "for i in range(len(female_words)):\n",
    "  femalew2emb = {female_words[i]: female_word_embs[i]}\n",
    "dump_pklfile(male_words, \"../data/extracted/female_word_file_embeddings.pkl\", 0)"
   ]
  }
 ],
 "metadata": {
  "kernelspec": {
   "display_name": "pig",
   "language": "python",
   "name": "conda"
  },
  "language_info": {
   "codemirror_mode": {
    "name": "ipython",
    "version": 3
   },
   "file_extension": ".py",
   "mimetype": "text/x-python",
   "name": "python",
   "nbconvert_exporter": "python",
   "pygments_lexer": "ipython3",
   "version": "3.6.13"
  },
  "orig_nbformat": 4,
  "vscode": {
   "interpreter": {
    "hash": "782f229df86a3f87331e45003869958aca32dec6c75eeee8aabd6e53207a921b"
   }
  }
 },
 "nbformat": 4,
 "nbformat_minor": 2
}
