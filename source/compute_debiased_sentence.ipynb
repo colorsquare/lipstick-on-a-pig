{
 "cells": [
  {
   "cell_type": "markdown",
   "metadata": {},
   "source": [
    "# Requirements"
   ]
  },
  {
   "cell_type": "code",
   "execution_count": null,
   "metadata": {},
   "outputs": [],
   "source": [
    "%pip install transformers\n",
    "%pip install torch\n",
    "%pip install pickle5\n",
    "%pip install mpld3\n",
    "%pip install scikit-learn\n",
    "%pip install pattern3\n",
    "%pip install nltk\n",
    "%pip install pattern"
   ]
  },
  {
   "cell_type": "markdown",
   "metadata": {},
   "source": [
    "# Load pretrained Bert model and tokenizer"
   ]
  },
  {
   "cell_type": "code",
   "execution_count": null,
   "metadata": {},
   "outputs": [],
   "source": [
    "import torch\n",
    "from transformers import BertTokenizer, BertModel, BertForMaskedLM, AdamW, get_linear_schedule_with_warmup\n",
    "\n",
    "# OPTIONAL: if you want to have more information on what's happening, activate the logger as follows\n",
    "import logging\n",
    "#logging.basicConfig(level=logging.INFO)\n",
    "\n",
    "import matplotlib.pyplot as plt\n",
    "%matplotlib inline\n",
    "\n",
    "debiased_model = \"sent_debiased\"\n",
    "folder_num = \"2.\"\n",
    "model_path = \"../debiased_models/sent_debias/debias-BERT/experiments/acl2020-results/QNLI/debiased_final_final\"\n",
    "\n",
    "# debiased_model = \"contexualized\"\n",
    "# folder_num = \"3.\"\n",
    "# model_path = \"../debiased_models/contextualised-embeddings-bert\"\n",
    "\n",
    "# debiased_model = \"cds\"\n",
    "# folder_num = \"4.\"\n",
    "# model_path = \"../debiased_models/cds.pt\"\n",
    "\n",
    "# pretrained_model = 'bert-base-uncased'\n",
    "# tokenizer = BertTokenizer.from_pretrained(pretrained_model)\n",
    "# # set up the model\n",
    "# model = BertForMaskedLM.from_pretrained(pretrained_model,\n",
    "#                                         output_attentions=False,\n",
    "#                                         output_hidden_states=True)\n",
    "model=torch.load(model_path, map_location=torch.device('cpu'))\n",
    "\n",
    "save_path = f\"../data/extracted/{folder_num} {debiased_model}/{debiased_model}_sentence_\"\n",
    "\n",
    "device = torch.device(\"cuda\" if torch.cuda.is_available() else \"cpu\")\n",
    "model=model.to(device)\n",
    "model.eval()\n",
    "tokenizer = BertTokenizer.from_pretrained('bert-base-uncased')\n"
   ]
  },
  {
   "cell_type": "code",
   "execution_count": null,
   "metadata": {},
   "outputs": [],
   "source": [
    "SINGULAR_NOUN_TEMPLATES = (\n",
    "    'This is {article} {term}.',\n",
    "    'That is {article} {term}.',\n",
    "    'There is {article} {term}.',\n",
    "    'Here is {article} {term}.',\n",
    "    'The {term} is here.',\n",
    "    'The {term} is there.',\n",
    ")\n",
    "\n",
    "PLURAL_NOUN_TEMPLATES = (\n",
    "    'These are {term}.',\n",
    "    'Those are {term}.',\n",
    "    'They are {term}.',\n",
    "    'The {term} are here.',\n",
    "    'The {term} are there.',\n",
    ")\n",
    "\n",
    "def fill_template(template, term):\n",
    "    article = (\n",
    "        'an'\n",
    "        if (\n",
    "            (\n",
    "                term.startswith('honor') or any(\n",
    "                    term.startswith(c) for c in 'aeiouAEIOU'\n",
    "                )\n",
    "            ) and not (\n",
    "                term.startswith('European') or term.startswith('Ukrainian')\n",
    "            )\n",
    "        )\n",
    "        else 'a'\n",
    "    )\n",
    "    sentence = template.format(article=article, term=term)\n",
    "    return sentence[0].upper() + sentence[1:]"
   ]
  },
  {
   "cell_type": "code",
   "execution_count": null,
   "metadata": {},
   "outputs": [],
   "source": [
    "from pattern.en import pluralize, singularize\n",
    "import nltk\n",
    "\n",
    "def generate_noun_sentences(vocab):\n",
    "    tags = nltk.pos_tag(vocab)\n",
    "    nouns = [word for word, tag in tqdm(tags) if tag.startswith(\"N\")]\n",
    "    w2i = {w: i for i, w in enumerate(nouns)}\n",
    "\n",
    "    sentence_list=[]\n",
    "    for term in tqdm(nouns):\n",
    "        singular_term=singularize(term)\n",
    "        # sentence_list_dict[term]=[]\n",
    "        sentences=[]\n",
    "        sentences+= [fill_template(template, singular_term) for template in SINGULAR_NOUN_TEMPLATES]\n",
    "        \n",
    "        plurar_term=pluralize(term)\n",
    "        sentences+= [fill_template(template, plurar_term) for template in PLURAL_NOUN_TEMPLATES]\n",
    "        sentence_list.append(sentences)\n",
    "    return w2i, nouns, sentence_list"
   ]
  },
  {
   "cell_type": "markdown",
   "metadata": {},
   "source": [
    "# open file and extract bert embedding function"
   ]
  },
  {
   "cell_type": "code",
   "execution_count": null,
   "metadata": {},
   "outputs": [],
   "source": [
    "import pickle5 as pickle\n",
    "from tqdm import tqdm \n",
    "import pickle5 as pickle\n",
    "\n",
    "def dump_pklfile(file, filepath, size):\n",
    "\twith open(filepath, \"wb\") as f:\n",
    "\t\tif (size == 0):\n",
    "\t\t\tpickle.dump((file), f)\n",
    "\t\t\treturn\n",
    "\t\tif(size > 0):\n",
    "\t\t\tpickle.dump((file[:size]), f)\n",
    "\t\t\treturn\n",
    "\t\telse:\n",
    "\t\t\tpickle.dump((file[size:]), f)\n",
    "\t\t\treturn\n",
    "    \n",
    "def open_pklfile(filepath, size):\n",
    "\twith open(filepath, \"rb\") as f:\n",
    "\t\tif (size == 0):\n",
    "\t\t\treturn pickle.load(f)\n",
    "\t\treturn (pickle.load(f))[0:size]\n",
    "\n",
    "def extract_bert_embeddings(sentence_list):\n",
    "\t#init for stacking embeddings\n",
    "\tembeddings = torch.empty(0, device=device)\n",
    "\n",
    "\tfor sentences in tqdm(sentence_list):\n",
    "\t\tembedding=torch.empty(0, device=device)\n",
    "\t\tfor sentence in sentences:\n",
    "\n",
    "\t\t\t# if (word in '___'):\n",
    "\t\t\t# \tcontinue\n",
    "\t\t\t# Map the token strings to their vocabulary indeces.\n",
    "\t\t\tmarked_text = \"[CLS] \" + sentence + \" [SEP]\"\n",
    "\t\t\ttokenized_text = tokenizer.tokenize(marked_text)\n",
    "\t\t\t\n",
    "\t\t\t# handling such as \"wedding_dress\"\n",
    "\t\t\ttokenized_text = [token for token in tokenized_text if token != '_']\n",
    "\n",
    "\t\t\t# Split the sentence into tokens.\n",
    "\t\t\tindexed_tokens = tokenizer.convert_tokens_to_ids(tokenized_text)\n",
    "\t\t\tsegments_ids = [1] * len(tokenized_text)\n",
    "\n",
    "\t\t\t# Convert inputs to PyTorch tensors\n",
    "\t\t\ttokens_tensor = torch.tensor([indexed_tokens], device=device)\n",
    "\t\t\tsegments_tensors = torch.tensor([segments_ids], device=device)\n",
    "\t\t\t\n",
    "\t\t\t# Put the model in \"evaluation\" mode,meaning feed-forward operation.\n",
    "\t\t\tmodel.eval()\n",
    "\n",
    "\t\t\t#Run the text through BERT, get the output and collect all of the hidden states produced from all 12 layers.\n",
    "\t\t\twith torch.no_grad():\n",
    "\t\t\t\toutputs = model(tokens_tensor, segments_tensors).hidden_states\n",
    "\t\t\t\t\n",
    "\t\t\t\tlast_four_hidden_states = outputs[-4:]\n",
    "\t\t\t\t# print(f'last vecs: {last_four_hidden_states.shape}')\n",
    "\n",
    "\t\t\t\tconcated_hidden_states = torch.cat(last_four_hidden_states, dim = 2)\n",
    "\t\t\t\tconcated_hidden_states= torch.squeeze(concated_hidden_states)\n",
    "\t\t\t\t\n",
    "\t\t\t\tsentence_embedding = torch.mean(concated_hidden_states, dim=0)\n",
    "\t\t\t\tsentence_embedding=torch.unsqueeze(sentence_embedding, dim= -1)\n",
    "\n",
    "\t\t\tembedding = torch.cat([embedding, sentence_embedding], 1)\n",
    "\n",
    "\t\tsum_embedding=torch.sum(embedding, 1)\n",
    "\t\tnorm_embedding= torch.nn.functional.normalize(sum_embedding, dim=0)\n",
    "\t\tnorm_embedding=torch.unsqueeze(norm_embedding, dim= -1)\n",
    "\n",
    "\t\tnorm_transposed=torch.transpose(norm_embedding, 0, 1)\n",
    "\n",
    "\t\tembeddings=torch.cat([embeddings, norm_transposed], 0)\n",
    "\n",
    "\treturn embeddings"
   ]
  },
  {
   "cell_type": "markdown",
   "metadata": {},
   "source": [
    "## Extracting Embeddings: 2016 words + sent_debiased + sentence"
   ]
  },
  {
   "cell_type": "code",
   "execution_count": null,
   "metadata": {},
   "outputs": [],
   "source": [
    "vocab = open_pklfile(\"../data/extracted/0. original/original_word_2016_restricted_vocab.pkl\", 0)\n",
    "w2i, nouns, sentence_list=generate_noun_sentences(vocab)\n",
    "lim_wv = extract_bert_embeddings(sentence_list)\n",
    "dump_pklfile(lim_wv, f\"{save_path}2016_restricted_embeddings.pkl\", 0)"
   ]
  },
  {
   "cell_type": "markdown",
   "metadata": {},
   "source": [
    "## Extracting Embeddings: 2018 words + sent_debiased + sentence"
   ]
  },
  {
   "cell_type": "code",
   "execution_count": null,
   "metadata": {},
   "outputs": [],
   "source": [
    "vocab = open_pklfile(\"../data/extracted/0. original/bert_sentence_2018_restricted_vocab.pkl\", 0)\n",
    "w2i, nouns, sentence_list=generate_noun_sentences(vocab)\n",
    "lim_wv = extract_bert_embeddings(sentence_list)\n",
    "dump_pklfile(lim_wv, f\"{save_path}2018_restricted_embeddings.pkl\", 0)"
   ]
  },
  {
   "cell_type": "markdown",
   "metadata": {},
   "source": [
    "## Extracting Embeddings: bert words 2500(2016) + sent_debiased + sentence"
   ]
  },
  {
   "cell_type": "code",
   "execution_count": null,
   "metadata": {},
   "outputs": [],
   "source": [
    "vocab_male_2016 = open_pklfile(\"../data/extracted/1. bert/bert_sentence_2016_male_2500_vocab.pkl\", 0)\n",
    "lim_wv_male_2016 = extract_bert_embeddings(vocab_male_2016)\n",
    "dump_pklfile(lim_wv_male_2016, f\"{save_path}2016_male_2500_embeddings_test.pkl\", 0)\n",
    "\n",
    "vocab_female_2016 = open_pklfile(\"../data/extracted/0. original/bert_sentence_2016_female_2500.pkl\", 0)\n",
    "lim_wv_female_2016 = extract_bert_embeddings(vocab_female_2016)\n",
    "dump_pklfile(lim_wv_female_2016, f\"{save_path}2016_female_2500_embeddings_test.pkl\", 0)"
   ]
  },
  {
   "cell_type": "markdown",
   "metadata": {},
   "source": [
    "## Extracting Embeddings: bert words 2500(2018) + sent_debiased + sentence"
   ]
  },
  {
   "cell_type": "code",
   "execution_count": null,
   "metadata": {},
   "outputs": [],
   "source": [
    "vocab_male_2018 = open_pklfile(\"../data/extracted/0. original/bert_sentence_2016_male_2500.pkl\", 0)\n",
    "lim_wv_male_2018 = extract_bert_embeddings(vocab_male_2018)\n",
    "dump_pklfile(lim_wv_male_2018, f\"{save_path}2018_male_2500_embeddings.pkl\", 0)\n",
    "\n",
    "vocab_female_2018 = open_pklfile(\"../data/extracted/0. original/bert_sentence_2016_female_2500.pkl\", 0)\n",
    "lim_wv_female_2018 = extract_bert_embeddings(vocab_female_2018)\n",
    "dump_pklfile(lim_wv_female_2018, f\"{save_path}2018_female_2500_embeddings.pkl\", 0)"
   ]
  },
  {
   "cell_type": "markdown",
   "metadata": {},
   "source": [
    "## Extracting Embeddings: word file words + sent_debiased + sentence"
   ]
  },
  {
   "cell_type": "code",
   "execution_count": null,
   "metadata": {},
   "outputs": [],
   "source": [
    "with open(\"../data/lists/male_word_file.txt\", 'r') as f:\n",
    "  male_words = [word.strip() for word in f.readlines()]\n",
    "male_word_embs = extract_bert_embeddings(male_words)\n",
    "dump_pklfile(male_word_embs, f\"{save_path}male_word_file_embeddings.pkl\", 0)\n",
    "\n",
    "with open(\"../data/lists/female_word_file.txt\", 'r') as f:\n",
    "  female_words = [word.strip() for word in f.readlines()]\n",
    "female_word_embs = extract_bert_embeddings(female_words)\n",
    "dump_pklfile(female_word_embs, f\"{save_path}female_word_file_embeddings.pkl\", 0)"
   ]
  }
 ],
 "metadata": {
  "kernelspec": {
   "display_name": "Python 3",
   "language": "python",
   "name": "python3"
  },
  "language_info": {
   "codemirror_mode": {
    "name": "ipython",
    "version": 3
   },
   "file_extension": ".py",
   "mimetype": "text/x-python",
   "name": "python",
   "nbconvert_exporter": "python",
   "pygments_lexer": "ipython3",
   "version": "3.6.13"
  },
  "orig_nbformat": 4,
  "vscode": {
   "interpreter": {
    "hash": "99b3c50fdb7e583f08a0b5d13592b9772c4dba729469d25211555e7350dc92e8"
   }
  }
 },
 "nbformat": 4,
 "nbformat_minor": 2
}
