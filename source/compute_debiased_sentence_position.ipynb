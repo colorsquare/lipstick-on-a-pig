{
 "cells": [
  {
   "cell_type": "markdown",
   "metadata": {},
   "source": [
    "# Requirements"
   ]
  },
  {
   "cell_type": "code",
   "execution_count": 1,
   "metadata": {},
   "outputs": [
    {
     "name": "stdout",
     "output_type": "stream",
     "text": [
      "Requirement already satisfied: transformers in /home/team4/anaconda3/envs/exp/lib/python3.6/site-packages (4.18.0)\n",
      "Requirement already satisfied: importlib-metadata in /home/team4/anaconda3/envs/exp/lib/python3.6/site-packages (from transformers) (4.8.3)\n",
      "Requirement already satisfied: dataclasses in /home/team4/anaconda3/envs/exp/lib/python3.6/site-packages (from transformers) (0.8)\n",
      "Requirement already satisfied: numpy>=1.17 in /home/team4/anaconda3/envs/exp/lib/python3.6/site-packages (from transformers) (1.19.5)\n",
      "Requirement already satisfied: requests in /home/team4/anaconda3/envs/exp/lib/python3.6/site-packages (from transformers) (2.27.1)\n",
      "Requirement already satisfied: pyyaml>=5.1 in /home/team4/anaconda3/envs/exp/lib/python3.6/site-packages (from transformers) (6.0)\n",
      "Requirement already satisfied: packaging>=20.0 in /home/team4/anaconda3/envs/exp/lib/python3.6/site-packages (from transformers) (21.3)\n",
      "Requirement already satisfied: huggingface-hub<1.0,>=0.1.0 in /home/team4/anaconda3/envs/exp/lib/python3.6/site-packages (from transformers) (0.4.0)\n",
      "Requirement already satisfied: regex!=2019.12.17 in /home/team4/anaconda3/envs/exp/lib/python3.6/site-packages (from transformers) (2022.10.31)\n",
      "Requirement already satisfied: sacremoses in /home/team4/anaconda3/envs/exp/lib/python3.6/site-packages (from transformers) (0.0.53)\n",
      "Requirement already satisfied: tqdm>=4.27 in /home/team4/anaconda3/envs/exp/lib/python3.6/site-packages (from transformers) (4.64.1)\n",
      "Requirement already satisfied: filelock in /home/team4/anaconda3/envs/exp/lib/python3.6/site-packages (from transformers) (3.4.1)\n",
      "Requirement already satisfied: tokenizers!=0.11.3,<0.13,>=0.11.1 in /home/team4/anaconda3/envs/exp/lib/python3.6/site-packages (from transformers) (0.12.1)\n",
      "Requirement already satisfied: typing-extensions>=3.7.4.3 in /home/team4/anaconda3/envs/exp/lib/python3.6/site-packages (from huggingface-hub<1.0,>=0.1.0->transformers) (4.1.1)\n",
      "Requirement already satisfied: pyparsing!=3.0.5,>=2.0.2 in /home/team4/anaconda3/envs/exp/lib/python3.6/site-packages (from packaging>=20.0->transformers) (3.0.9)\n",
      "Requirement already satisfied: importlib-resources in /home/team4/anaconda3/envs/exp/lib/python3.6/site-packages (from tqdm>=4.27->transformers) (5.4.0)\n",
      "Requirement already satisfied: zipp>=0.5 in /home/team4/anaconda3/envs/exp/lib/python3.6/site-packages (from importlib-metadata->transformers) (3.6.0)\n",
      "Requirement already satisfied: certifi>=2017.4.17 in /home/team4/anaconda3/envs/exp/lib/python3.6/site-packages (from requests->transformers) (2021.5.30)\n",
      "Requirement already satisfied: charset-normalizer~=2.0.0 in /home/team4/anaconda3/envs/exp/lib/python3.6/site-packages (from requests->transformers) (2.0.12)\n",
      "Requirement already satisfied: urllib3<1.27,>=1.21.1 in /home/team4/anaconda3/envs/exp/lib/python3.6/site-packages (from requests->transformers) (1.26.13)\n",
      "Requirement already satisfied: idna<4,>=2.5 in /home/team4/anaconda3/envs/exp/lib/python3.6/site-packages (from requests->transformers) (3.4)\n",
      "Requirement already satisfied: click in /home/team4/anaconda3/envs/exp/lib/python3.6/site-packages (from sacremoses->transformers) (8.0.4)\n",
      "Requirement already satisfied: joblib in /home/team4/anaconda3/envs/exp/lib/python3.6/site-packages (from sacremoses->transformers) (1.1.1)\n",
      "Requirement already satisfied: six in /home/team4/anaconda3/envs/exp/lib/python3.6/site-packages (from sacremoses->transformers) (1.16.0)\n",
      "Note: you may need to restart the kernel to use updated packages.\n",
      "Requirement already satisfied: torch in /home/team4/anaconda3/envs/exp/lib/python3.6/site-packages (1.10.2)\n",
      "Requirement already satisfied: typing_extensions in /home/team4/anaconda3/envs/exp/lib/python3.6/site-packages (from torch) (4.1.1)\n",
      "Requirement already satisfied: dataclasses in /home/team4/anaconda3/envs/exp/lib/python3.6/site-packages (from torch) (0.8)\n",
      "Note: you may need to restart the kernel to use updated packages.\n",
      "Requirement already satisfied: pickle5 in /home/team4/anaconda3/envs/exp/lib/python3.6/site-packages (0.0.12)\n",
      "Note: you may need to restart the kernel to use updated packages.\n",
      "Requirement already satisfied: mpld3 in /home/team4/anaconda3/envs/exp/lib/python3.6/site-packages (0.5.8)\n",
      "Requirement already satisfied: jinja2 in /home/team4/anaconda3/envs/exp/lib/python3.6/site-packages (from mpld3) (3.0.3)\n",
      "Requirement already satisfied: matplotlib in /home/team4/anaconda3/envs/exp/lib/python3.6/site-packages (from mpld3) (3.3.4)\n",
      "Requirement already satisfied: MarkupSafe>=2.0 in /home/team4/anaconda3/envs/exp/lib/python3.6/site-packages (from jinja2->mpld3) (2.0.1)\n",
      "Requirement already satisfied: python-dateutil>=2.1 in /home/team4/.local/lib/python3.6/site-packages (from matplotlib->mpld3) (2.8.2)\n",
      "Requirement already satisfied: numpy>=1.15 in /home/team4/anaconda3/envs/exp/lib/python3.6/site-packages (from matplotlib->mpld3) (1.19.5)\n",
      "Requirement already satisfied: pillow>=6.2.0 in /home/team4/anaconda3/envs/exp/lib/python3.6/site-packages (from matplotlib->mpld3) (8.4.0)\n",
      "Requirement already satisfied: kiwisolver>=1.0.1 in /home/team4/anaconda3/envs/exp/lib/python3.6/site-packages (from matplotlib->mpld3) (1.3.1)\n",
      "Requirement already satisfied: pyparsing!=2.0.4,!=2.1.2,!=2.1.6,>=2.0.3 in /home/team4/anaconda3/envs/exp/lib/python3.6/site-packages (from matplotlib->mpld3) (3.0.9)\n",
      "Requirement already satisfied: cycler>=0.10 in /home/team4/anaconda3/envs/exp/lib/python3.6/site-packages (from matplotlib->mpld3) (0.11.0)\n",
      "Requirement already satisfied: six>=1.5 in /home/team4/anaconda3/envs/exp/lib/python3.6/site-packages (from python-dateutil>=2.1->matplotlib->mpld3) (1.16.0)\n",
      "Note: you may need to restart the kernel to use updated packages.\n",
      "Requirement already satisfied: scikit-learn in /home/team4/anaconda3/envs/exp/lib/python3.6/site-packages (0.24.2)\n",
      "Requirement already satisfied: threadpoolctl>=2.0.0 in /home/team4/anaconda3/envs/exp/lib/python3.6/site-packages (from scikit-learn) (3.1.0)\n",
      "Requirement already satisfied: scipy>=0.19.1 in /home/team4/anaconda3/envs/exp/lib/python3.6/site-packages (from scikit-learn) (1.5.4)\n",
      "Requirement already satisfied: numpy>=1.13.3 in /home/team4/anaconda3/envs/exp/lib/python3.6/site-packages (from scikit-learn) (1.19.5)\n",
      "Requirement already satisfied: joblib>=0.11 in /home/team4/anaconda3/envs/exp/lib/python3.6/site-packages (from scikit-learn) (1.1.1)\n",
      "Note: you may need to restart the kernel to use updated packages.\n",
      "Requirement already satisfied: pattern3 in /home/team4/anaconda3/envs/exp/lib/python3.6/site-packages (3.0.0)\n",
      "Requirement already satisfied: docx in /home/team4/anaconda3/envs/exp/lib/python3.6/site-packages (from pattern3) (0.2.4)\n",
      "Requirement already satisfied: simplejson in /home/team4/anaconda3/envs/exp/lib/python3.6/site-packages (from pattern3) (3.18.0)\n",
      "Requirement already satisfied: pdfminer3k in /home/team4/anaconda3/envs/exp/lib/python3.6/site-packages (from pattern3) (1.3.4)\n",
      "Requirement already satisfied: beautifulsoup4 in /home/team4/anaconda3/envs/exp/lib/python3.6/site-packages (from pattern3) (4.11.1)\n",
      "Requirement already satisfied: cherrypy in /home/team4/anaconda3/envs/exp/lib/python3.6/site-packages (from pattern3) (18.8.0)\n",
      "Requirement already satisfied: feedparser in /home/team4/anaconda3/envs/exp/lib/python3.6/site-packages (from pattern3) (6.0.10)\n",
      "Requirement already satisfied: pdfminer.six in /home/team4/anaconda3/envs/exp/lib/python3.6/site-packages (from pattern3) (20221105)\n",
      "Requirement already satisfied: soupsieve>1.2 in /home/team4/anaconda3/envs/exp/lib/python3.6/site-packages (from beautifulsoup4->pattern3) (2.3.2.post1)\n",
      "Requirement already satisfied: portend>=2.1.1 in /home/team4/anaconda3/envs/exp/lib/python3.6/site-packages (from cherrypy->pattern3) (3.0.0)\n",
      "Requirement already satisfied: jaraco.collections in /home/team4/anaconda3/envs/exp/lib/python3.6/site-packages (from cherrypy->pattern3) (3.4.0)\n",
      "Requirement already satisfied: zc.lockfile in /home/team4/anaconda3/envs/exp/lib/python3.6/site-packages (from cherrypy->pattern3) (2.0)\n",
      "Requirement already satisfied: cheroot>=8.2.1 in /home/team4/anaconda3/envs/exp/lib/python3.6/site-packages (from cherrypy->pattern3) (9.0.0)\n",
      "Requirement already satisfied: more-itertools in /home/team4/anaconda3/envs/exp/lib/python3.6/site-packages (from cherrypy->pattern3) (8.14.0)\n",
      "Requirement already satisfied: importlib-metadata in /home/team4/anaconda3/envs/exp/lib/python3.6/site-packages (from cheroot>=8.2.1->cherrypy->pattern3) (4.8.3)\n",
      "Requirement already satisfied: six>=1.11.0 in /home/team4/anaconda3/envs/exp/lib/python3.6/site-packages (from cheroot>=8.2.1->cherrypy->pattern3) (1.16.0)\n",
      "Requirement already satisfied: jaraco.functools in /home/team4/anaconda3/envs/exp/lib/python3.6/site-packages (from cheroot>=8.2.1->cherrypy->pattern3) (3.4.0)\n",
      "Requirement already satisfied: tempora>=1.8 in /home/team4/anaconda3/envs/exp/lib/python3.6/site-packages (from portend>=2.1.1->cherrypy->pattern3) (4.1.2)\n",
      "Requirement already satisfied: pytz in /home/team4/anaconda3/envs/exp/lib/python3.6/site-packages (from tempora>=1.8->portend>=2.1.1->cherrypy->pattern3) (2022.6)\n",
      "Requirement already satisfied: Pillow>=2.0 in /home/team4/anaconda3/envs/exp/lib/python3.6/site-packages (from docx->pattern3) (8.4.0)\n",
      "Requirement already satisfied: lxml in /home/team4/anaconda3/envs/exp/lib/python3.6/site-packages (from docx->pattern3) (4.9.1)\n",
      "Requirement already satisfied: sgmllib3k in /home/team4/anaconda3/envs/exp/lib/python3.6/site-packages (from feedparser->pattern3) (1.0.0)\n",
      "Requirement already satisfied: typing-extensions>=3.6.4 in /home/team4/anaconda3/envs/exp/lib/python3.6/site-packages (from importlib-metadata->cheroot>=8.2.1->cherrypy->pattern3) (4.1.1)\n",
      "Requirement already satisfied: zipp>=0.5 in /home/team4/anaconda3/envs/exp/lib/python3.6/site-packages (from importlib-metadata->cheroot>=8.2.1->cherrypy->pattern3) (3.6.0)\n",
      "Requirement already satisfied: jaraco.text in /home/team4/anaconda3/envs/exp/lib/python3.6/site-packages (from jaraco.collections->cherrypy->pattern3) (3.7.0)\n",
      "Requirement already satisfied: jaraco.classes in /home/team4/anaconda3/envs/exp/lib/python3.6/site-packages (from jaraco.collections->cherrypy->pattern3) (3.2.1)\n",
      "Requirement already satisfied: jaraco.context>=4.1 in /home/team4/anaconda3/envs/exp/lib/python3.6/site-packages (from jaraco.text->jaraco.collections->cherrypy->pattern3) (4.1.1)\n",
      "Requirement already satisfied: importlib-resources in /home/team4/anaconda3/envs/exp/lib/python3.6/site-packages (from jaraco.text->jaraco.collections->cherrypy->pattern3) (5.4.0)\n",
      "Requirement already satisfied: cryptography>=36.0.0 in /home/team4/anaconda3/envs/exp/lib/python3.6/site-packages (from pdfminer.six->pattern3) (38.0.4)\n",
      "Requirement already satisfied: charset-normalizer>=2.0.0 in /home/team4/anaconda3/envs/exp/lib/python3.6/site-packages (from pdfminer.six->pattern3) (2.0.12)\n",
      "Requirement already satisfied: cffi>=1.12 in /home/team4/anaconda3/envs/exp/lib/python3.6/site-packages (from cryptography>=36.0.0->pdfminer.six->pattern3) (1.15.1)\n",
      "Requirement already satisfied: pycparser in /home/team4/anaconda3/envs/exp/lib/python3.6/site-packages (from cffi>=1.12->cryptography>=36.0.0->pdfminer.six->pattern3) (2.21)\n",
      "Requirement already satisfied: ply in /home/team4/anaconda3/envs/exp/lib/python3.6/site-packages (from pdfminer3k->pattern3) (3.11)\n",
      "Requirement already satisfied: setuptools in /home/team4/anaconda3/envs/exp/lib/python3.6/site-packages (from zc.lockfile->cherrypy->pattern3) (58.0.4)\n",
      "Note: you may need to restart the kernel to use updated packages.\n",
      "Requirement already satisfied: nltk in /home/team4/anaconda3/envs/exp/lib/python3.6/site-packages (3.6.7)\n",
      "Requirement already satisfied: regex>=2021.8.3 in /home/team4/anaconda3/envs/exp/lib/python3.6/site-packages (from nltk) (2022.10.31)\n",
      "Requirement already satisfied: joblib in /home/team4/anaconda3/envs/exp/lib/python3.6/site-packages (from nltk) (1.1.1)\n",
      "Requirement already satisfied: click in /home/team4/anaconda3/envs/exp/lib/python3.6/site-packages (from nltk) (8.0.4)\n",
      "Requirement already satisfied: tqdm in /home/team4/anaconda3/envs/exp/lib/python3.6/site-packages (from nltk) (4.64.1)\n",
      "Requirement already satisfied: importlib-metadata in /home/team4/anaconda3/envs/exp/lib/python3.6/site-packages (from click->nltk) (4.8.3)\n",
      "Requirement already satisfied: zipp>=0.5 in /home/team4/anaconda3/envs/exp/lib/python3.6/site-packages (from importlib-metadata->click->nltk) (3.6.0)\n",
      "Requirement already satisfied: typing-extensions>=3.6.4 in /home/team4/anaconda3/envs/exp/lib/python3.6/site-packages (from importlib-metadata->click->nltk) (4.1.1)\n",
      "Requirement already satisfied: importlib-resources in /home/team4/anaconda3/envs/exp/lib/python3.6/site-packages (from tqdm->nltk) (5.4.0)\n",
      "Note: you may need to restart the kernel to use updated packages.\n",
      "Requirement already satisfied: pattern in /home/team4/anaconda3/envs/exp/lib/python3.6/site-packages (3.6)\n",
      "Requirement already satisfied: pdfminer.six in /home/team4/anaconda3/envs/exp/lib/python3.6/site-packages (from pattern) (20221105)\n",
      "Requirement already satisfied: feedparser in /home/team4/anaconda3/envs/exp/lib/python3.6/site-packages (from pattern) (6.0.10)\n",
      "Requirement already satisfied: backports.csv in /home/team4/anaconda3/envs/exp/lib/python3.6/site-packages (from pattern) (1.0.7)\n",
      "Requirement already satisfied: lxml in /home/team4/anaconda3/envs/exp/lib/python3.6/site-packages (from pattern) (4.9.1)\n",
      "Requirement already satisfied: mysqlclient in /home/team4/anaconda3/envs/exp/lib/python3.6/site-packages (from pattern) (2.1.1)\n",
      "Requirement already satisfied: scipy in /home/team4/anaconda3/envs/exp/lib/python3.6/site-packages (from pattern) (1.5.4)\n",
      "Requirement already satisfied: nltk in /home/team4/anaconda3/envs/exp/lib/python3.6/site-packages (from pattern) (3.6.7)\n",
      "Requirement already satisfied: future in /home/team4/anaconda3/envs/exp/lib/python3.6/site-packages (from pattern) (0.18.2)\n",
      "Requirement already satisfied: requests in /home/team4/anaconda3/envs/exp/lib/python3.6/site-packages (from pattern) (2.27.1)\n",
      "Requirement already satisfied: python-docx in /home/team4/anaconda3/envs/exp/lib/python3.6/site-packages (from pattern) (0.8.11)\n",
      "Requirement already satisfied: beautifulsoup4 in /home/team4/anaconda3/envs/exp/lib/python3.6/site-packages (from pattern) (4.11.1)\n",
      "Requirement already satisfied: cherrypy in /home/team4/anaconda3/envs/exp/lib/python3.6/site-packages (from pattern) (18.8.0)\n",
      "Requirement already satisfied: numpy in /home/team4/anaconda3/envs/exp/lib/python3.6/site-packages (from pattern) (1.19.5)\n",
      "Requirement already satisfied: soupsieve>1.2 in /home/team4/anaconda3/envs/exp/lib/python3.6/site-packages (from beautifulsoup4->pattern) (2.3.2.post1)\n",
      "Requirement already satisfied: cheroot>=8.2.1 in /home/team4/anaconda3/envs/exp/lib/python3.6/site-packages (from cherrypy->pattern) (9.0.0)\n",
      "Requirement already satisfied: more-itertools in /home/team4/anaconda3/envs/exp/lib/python3.6/site-packages (from cherrypy->pattern) (8.14.0)\n",
      "Requirement already satisfied: jaraco.collections in /home/team4/anaconda3/envs/exp/lib/python3.6/site-packages (from cherrypy->pattern) (3.4.0)\n",
      "Requirement already satisfied: portend>=2.1.1 in /home/team4/anaconda3/envs/exp/lib/python3.6/site-packages (from cherrypy->pattern) (3.0.0)\n",
      "Requirement already satisfied: zc.lockfile in /home/team4/anaconda3/envs/exp/lib/python3.6/site-packages (from cherrypy->pattern) (2.0)\n",
      "Requirement already satisfied: jaraco.functools in /home/team4/anaconda3/envs/exp/lib/python3.6/site-packages (from cheroot>=8.2.1->cherrypy->pattern) (3.4.0)\n",
      "Requirement already satisfied: importlib-metadata in /home/team4/anaconda3/envs/exp/lib/python3.6/site-packages (from cheroot>=8.2.1->cherrypy->pattern) (4.8.3)\n",
      "Requirement already satisfied: six>=1.11.0 in /home/team4/anaconda3/envs/exp/lib/python3.6/site-packages (from cheroot>=8.2.1->cherrypy->pattern) (1.16.0)\n",
      "Requirement already satisfied: tempora>=1.8 in /home/team4/anaconda3/envs/exp/lib/python3.6/site-packages (from portend>=2.1.1->cherrypy->pattern) (4.1.2)\n",
      "Requirement already satisfied: pytz in /home/team4/anaconda3/envs/exp/lib/python3.6/site-packages (from tempora>=1.8->portend>=2.1.1->cherrypy->pattern) (2022.6)\n",
      "Requirement already satisfied: sgmllib3k in /home/team4/anaconda3/envs/exp/lib/python3.6/site-packages (from feedparser->pattern) (1.0.0)\n",
      "Requirement already satisfied: typing-extensions>=3.6.4 in /home/team4/anaconda3/envs/exp/lib/python3.6/site-packages (from importlib-metadata->cheroot>=8.2.1->cherrypy->pattern) (4.1.1)\n",
      "Requirement already satisfied: zipp>=0.5 in /home/team4/anaconda3/envs/exp/lib/python3.6/site-packages (from importlib-metadata->cheroot>=8.2.1->cherrypy->pattern) (3.6.0)\n",
      "Requirement already satisfied: jaraco.text in /home/team4/anaconda3/envs/exp/lib/python3.6/site-packages (from jaraco.collections->cherrypy->pattern) (3.7.0)\n",
      "Requirement already satisfied: jaraco.classes in /home/team4/anaconda3/envs/exp/lib/python3.6/site-packages (from jaraco.collections->cherrypy->pattern) (3.2.1)\n",
      "Requirement already satisfied: importlib-resources in /home/team4/anaconda3/envs/exp/lib/python3.6/site-packages (from jaraco.text->jaraco.collections->cherrypy->pattern) (5.4.0)\n",
      "Requirement already satisfied: jaraco.context>=4.1 in /home/team4/anaconda3/envs/exp/lib/python3.6/site-packages (from jaraco.text->jaraco.collections->cherrypy->pattern) (4.1.1)\n",
      "Requirement already satisfied: tqdm in /home/team4/anaconda3/envs/exp/lib/python3.6/site-packages (from nltk->pattern) (4.64.1)\n",
      "Requirement already satisfied: click in /home/team4/anaconda3/envs/exp/lib/python3.6/site-packages (from nltk->pattern) (8.0.4)\n",
      "Requirement already satisfied: joblib in /home/team4/anaconda3/envs/exp/lib/python3.6/site-packages (from nltk->pattern) (1.1.1)\n",
      "Requirement already satisfied: regex>=2021.8.3 in /home/team4/anaconda3/envs/exp/lib/python3.6/site-packages (from nltk->pattern) (2022.10.31)\n",
      "Requirement already satisfied: cryptography>=36.0.0 in /home/team4/anaconda3/envs/exp/lib/python3.6/site-packages (from pdfminer.six->pattern) (38.0.4)\n",
      "Requirement already satisfied: charset-normalizer>=2.0.0 in /home/team4/anaconda3/envs/exp/lib/python3.6/site-packages (from pdfminer.six->pattern) (2.0.12)\n",
      "Requirement already satisfied: cffi>=1.12 in /home/team4/anaconda3/envs/exp/lib/python3.6/site-packages (from cryptography>=36.0.0->pdfminer.six->pattern) (1.15.1)\n",
      "Requirement already satisfied: pycparser in /home/team4/anaconda3/envs/exp/lib/python3.6/site-packages (from cffi>=1.12->cryptography>=36.0.0->pdfminer.six->pattern) (2.21)\n",
      "Requirement already satisfied: urllib3<1.27,>=1.21.1 in /home/team4/anaconda3/envs/exp/lib/python3.6/site-packages (from requests->pattern) (1.26.13)\n",
      "Requirement already satisfied: idna<4,>=2.5 in /home/team4/anaconda3/envs/exp/lib/python3.6/site-packages (from requests->pattern) (3.4)\n",
      "Requirement already satisfied: certifi>=2017.4.17 in /home/team4/anaconda3/envs/exp/lib/python3.6/site-packages (from requests->pattern) (2021.5.30)\n",
      "Requirement already satisfied: setuptools in /home/team4/anaconda3/envs/exp/lib/python3.6/site-packages (from zc.lockfile->cherrypy->pattern) (58.0.4)\n",
      "Note: you may need to restart the kernel to use updated packages.\n"
     ]
    }
   ],
   "source": [
    "%pip install transformers\n",
    "%pip install torch\n",
    "%pip install pickle5\n",
    "%pip install mpld3\n",
    "%pip install scikit-learn\n",
    "%pip install pattern3\n",
    "%pip install nltk\n",
    "%pip install pattern"
   ]
  },
  {
   "cell_type": "markdown",
   "metadata": {},
   "source": [
    "# Load pretrained Bert model and tokenizer"
   ]
  },
  {
   "cell_type": "code",
   "execution_count": 20,
   "metadata": {},
   "outputs": [
    {
     "name": "stderr",
     "output_type": "stream",
     "text": [
      "Some weights of the model checkpoint at bert-base-uncased were not used when initializing BertForMaskedLM: ['cls.seq_relationship.bias', 'cls.seq_relationship.weight']\n",
      "- This IS expected if you are initializing BertForMaskedLM from the checkpoint of a model trained on another task or with another architecture (e.g. initializing a BertForSequenceClassification model from a BertForPreTraining model).\n",
      "- This IS NOT expected if you are initializing BertForMaskedLM from the checkpoint of a model that you expect to be exactly identical (initializing a BertForSequenceClassification model from a BertForSequenceClassification model).\n"
     ]
    }
   ],
   "source": [
    "import torch\n",
    "from transformers import BertTokenizer, BertModel, BertForMaskedLM, AdamW, get_linear_schedule_with_warmup\n",
    "\n",
    "# OPTIONAL: if you want to have more information on what's happening, activate the logger as follows\n",
    "import logging\n",
    "#logging.basicConfig(level=logging.INFO)\n",
    "\n",
    "import matplotlib.pyplot as plt\n",
    "%matplotlib inline\n",
    "\n",
    "# debiased_model = \"positional\"\n",
    "# folder_num = \"5.\"\n",
    "# model_path=\"bert-base-uncased\"\n",
    "# model_path = \"../debiased_models/sent_debias/debias-BERT/experiments/acl2020-results/QNLI/debiased_final_final\"\n",
    "# model = BertModel.from_pretrained(model_path, output_hidden_states = True)\n",
    "\n",
    "\n",
    "\n",
    "# debiased_model = \"sent_debiased\"\n",
    "# folder_num = \"2.\"\n",
    "# model_path = \"../debiased_models/sent_debias/debias-BERT/experiments/acl2020-results/QNLI/debiased_final_final\"\n",
    "# model = BertModel.from_pretrained(model_path, output_hidden_states = True)\n",
    "\n",
    "# debiased_model = \"contextualised\"\n",
    "# folder_num = \"3.\"\n",
    "# model_path = \"../debiased_models/contextualised-embeddings-bert\"\n",
    "# model = BertModel.from_pretrained(model_path, output_hidden_states = True)\n",
    "\n",
    "debiased_model = \"cds\"\n",
    "folder_num = \"4.\"\n",
    "model_path = \"../debiased_models/cds.pt\"\n",
    "model = BertForMaskedLM.from_pretrained('bert-base-uncased',\n",
    "                                        output_attentions = False,\n",
    "                                        output_hidden_states = True)\n",
    "model.load_state_dict(torch.load(model_path, map_location=torch.device('cpu')))\n",
    "\n",
    "save_path = f\"../data/extracted_positional/{folder_num} {debiased_model}/{debiased_model}_sentence_\"\n",
    "\n",
    "device = torch.device(\"cuda\" if torch.cuda.is_available() else \"cpu\")\n",
    "model = model.to(device)\n",
    "model.eval()\n",
    "tokenizer = BertTokenizer.from_pretrained('bert-base-uncased')\n"
   ]
  },
  {
   "cell_type": "code",
   "execution_count": 12,
   "metadata": {},
   "outputs": [],
   "source": [
    "SINGULAR_NOUN_TEMPLATES = (\n",
    "    'This is {article} {term}.',\n",
    "    'That is {article} {term}.',\n",
    "    'There is {article} {term}.',\n",
    "    'Here is {article} {term}.',\n",
    "    'The {term} is here.',\n",
    "    'The {term} is there.',\n",
    ")\n",
    "\n",
    "PLURAL_NOUN_TEMPLATES = (\n",
    "    'These are {term}.',\n",
    "    'Those are {term}.',\n",
    "    'They are {term}.',\n",
    "    'The {term} are here.',\n",
    "    'The {term} are there.',\n",
    ")\n",
    "\n",
    "TARGET_POSITON=[(3, -2), (3, -2), (3, -2), (3, -2), (2, -4), (2, -4), (3, -2), (3, -2), (3, -2), (2, -4), (2, -4)]\n",
    "\n",
    "def fill_template(template, term):\n",
    "    article = (\n",
    "        'an'\n",
    "        if (\n",
    "            (\n",
    "                term.startswith('honor') or any(\n",
    "                    term.startswith(c) for c in 'aeiouAEIOU'\n",
    "                )\n",
    "            ) and not (\n",
    "                term.startswith('European') or term.startswith('Ukrainian')\n",
    "            )\n",
    "        )\n",
    "        else 'a'\n",
    "    )\n",
    "    sentence = template.format(article=article, term=term)\n",
    "    return sentence[0].upper() + sentence[1:]"
   ]
  },
  {
   "cell_type": "code",
   "execution_count": 13,
   "metadata": {},
   "outputs": [],
   "source": [
    "from pattern.en import pluralize, singularize\n",
    "import nltk\n",
    "\n",
    "def generate_noun_sentences(vocab):\n",
    "    tags = [(word, tag) for w in vocab for word, tag in nltk.pos_tag([w])]\n",
    "    nouns = [word for word, tag in tqdm(tags) if tag.startswith(\"N\") and '___' not in word and word is not \"_\"]\n",
    "    w2i = {w: i for i, w in enumerate(nouns)}\n",
    "\n",
    "    sentence_list = []\n",
    "    for term in tqdm(nouns):\n",
    "        singular_term = singularize(term)\n",
    "        sentences = []\n",
    "        sentences += [fill_template(template, singular_term) for template in SINGULAR_NOUN_TEMPLATES]\n",
    "        plurar_term = pluralize(term)\n",
    "        sentences += [fill_template(template, plurar_term) for template in PLURAL_NOUN_TEMPLATES]\n",
    "        sentence_list.append(sentences)\n",
    "    return w2i, nouns, sentence_list"
   ]
  },
  {
   "cell_type": "markdown",
   "metadata": {},
   "source": [
    "# open file and extract bert embedding function"
   ]
  },
  {
   "cell_type": "code",
   "execution_count": 14,
   "metadata": {},
   "outputs": [],
   "source": [
    "import pickle5 as pickle\n",
    "from tqdm import tqdm \n",
    "import pickle5 as pickle\n",
    "\n",
    "def dump_pklfile(file, filepath, size):\n",
    "\twith open(filepath, \"wb\") as f:\n",
    "\t\tif (size == 0):\n",
    "\t\t\tpickle.dump((file), f)\n",
    "\t\t\treturn\n",
    "\t\tif (size > 0):\n",
    "\t\t\tpickle.dump((file[:size]), f)\n",
    "\t\t\treturn\n",
    "\t\telse:\n",
    "\t\t\tpickle.dump((file[size:]), f)\n",
    "\t\t\treturn\n",
    "    \n",
    "def open_pklfile(filepath, size):\n",
    "\twith open(filepath, \"rb\") as f:\n",
    "\t\tif (size == 0):\n",
    "\t\t\treturn pickle.load(f)\n",
    "\t\treturn (pickle.load(f))[0:size]\n",
    "\n",
    "gender_target_list=[\"male\", \"males\", \"man\", \"men\", \"boy\", \"boys\", \"brother\", \"brothers\", \"his\", \"he\", \"him\", \"son\", \"sons\",\n",
    "              \"female\", \"females\", \"woman\", \"women\", \"girl\", \"girls\", \"sister\",\"sisters\", \"she\", \"her\",\"hers\", \"daughter\", \"daughters\"]\n",
    "\n",
    "def extract_bert_embeddings(sentence_list):\n",
    "\t#init for stacking embeddings\n",
    "\tembeddings = torch.empty(0, device=device)\n",
    "\n",
    "\tfor sentences in tqdm(sentence_list):\n",
    "\t\tembedding = torch.empty(0, device=device)\n",
    "\t\tfor i, sentence in enumerate(sentences):\n",
    "\t\t\t# print(f\"[{sentence}]\")\n",
    "\t\t\t# Map the token strings to their vocabulary indeces.\n",
    "\t\t\tmarked_text = \"[CLS] \" + sentence + \" [SEP]\"\n",
    "\t\t\t# print(marked_text)\n",
    "\t\t\ttokenized_text = tokenizer.tokenize(marked_text)\n",
    "\t\t\t# print(tokenized_text)\n",
    "\t\t\t# handling such as \"wedding_dress\"\n",
    "\t\t\ttokenized_text = [token for token in tokenized_text if token != '_']\n",
    "\n",
    "\t\t\t# Split the sentence into tokens.\n",
    "\t\t\tindexed_tokens = tokenizer.convert_tokens_to_ids(tokenized_text)\n",
    "\t\t\tsegments_ids = [1] * len(tokenized_text)\n",
    "\n",
    "\t\t\t# Convert inputs to PyTorch tensors\n",
    "\t\t\ttokens_tensor = torch.tensor([indexed_tokens], device=device)\n",
    "\t\t\tsegments_tensors = torch.tensor([segments_ids], device=device)\n",
    "\n",
    "\t\t\t# Put the model in \"evaluation\" mode,meaning feed-forward operation.\n",
    "\t\t\tmodel.eval()\n",
    "\n",
    "\t\t\t# Run the text through BERT, get the output and collect all of the hidden states produced from all 12 layers.\n",
    "\t\t\twith torch.no_grad():\n",
    "\t\t\t\toutputs = model(tokens_tensor, segments_tensors).hidden_states\n",
    "\t\t\t\t# print(f\"outputs: {outputs}\")\n",
    "\t\t\t\tstart_position=TARGET_POSITON[i][0]\n",
    "\t\t\t\tend_position=TARGET_POSITON[i][1]\n",
    "\t\t\t\tlast_four_hidden_states = outputs[-4:]\n",
    "\t\t\t\tconcated_hidden_states = torch.cat(last_four_hidden_states, dim=2)\n",
    "\t\t\t\tsentence_embedding=torch.sum(torch.stack([concated_hidden_states[:,start_position], concated_hidden_states[:,end_position-1]]), 0)\n",
    "\t\t\t\t\n",
    "\t\t\tembedding = torch.cat([embedding, sentence_embedding], 0)\n",
    "\t\t\tif torch.isnan(embedding).any():\n",
    "\t\t\t\tprint(sentence)\n",
    "\t\t\t\tprint(tokenized_text)\n",
    "\t\t\t\tprint(sentence_embedding)\n",
    "\t\t\t\treturn\n",
    "\n",
    "\t\tsum_embedding = torch.sum(embedding, 0)\n",
    "\n",
    "\t\tnorm_embedding = torch.nn.functional.normalize(sum_embedding, dim=0)\n",
    "\t\tnorm_embedding = torch.unsqueeze(norm_embedding, dim=-1)\n",
    "\t\tnorm_embedding = torch.transpose(norm_embedding, 0, 1)\n",
    "\n",
    "\n",
    "\t\tembeddings = torch.cat([embeddings, norm_embedding], 0)\n",
    "\n",
    "\treturn embeddings\n",
    "\n"
   ]
  },
  {
   "cell_type": "code",
   "execution_count": 15,
   "metadata": {},
   "outputs": [],
   "source": [
    "\n",
    "def extract_bert_embeddings_gender(sentence_list):\n",
    "\t#init for stacking embeddings\n",
    "\tembeddings = torch.empty(0, device=device)\n",
    "\n",
    "\tfor sentences in tqdm(sentence_list):\n",
    "\t\tembedding = torch.empty(0, device=device)\n",
    "\t\tfor i, sentence in enumerate(sentences):\n",
    "\t\t\t# print(f\"[{sentence}]\")\n",
    "\t\t\t# Map the token strings to their vocabulary indeces.\n",
    "\t\t\tmarked_text = \"[CLS] \" + sentence + \" [SEP]\"\n",
    "\t\t\ttokenized_text = tokenizer.tokenize(marked_text)\n",
    "\t\t\t# handling such as \"wedding_dress\"\n",
    "\t\t\ttokenized_text = [token for token in tokenized_text if token != '_']\n",
    "\n",
    "\t\t\t# Split the sentence into tokens.\n",
    "\t\t\tindexed_tokens = tokenizer.convert_tokens_to_ids(tokenized_text)\n",
    "\t\t\tsegments_ids = [1] * len(tokenized_text)\n",
    "\n",
    "\t\t\t# Convert inputs to PyTorch tensors\n",
    "\t\t\ttokens_tensor = torch.tensor([indexed_tokens], device=device)\n",
    "\t\t\tsegments_tensors = torch.tensor([segments_ids], device=device)\n",
    "\n",
    "\t\t\t# Put the model in \"evaluation\" mode,meaning feed-forward operation.\n",
    "\t\t\tmodel.eval()\n",
    "\n",
    "\t\t\t# Run the text through BERT, get the output and collect all of the hidden states produced from all 12 layers.\n",
    "\t\t\twith torch.no_grad():\n",
    "\t\t\t\toutputs = model(tokens_tensor, segments_tensors).hidden_states\n",
    "\t\t\n",
    "\t\t\t\tgender_position=-1\n",
    "\t\t\t\tfor idx, t in enumerate(tokenized_text):\n",
    "\t\t\t\t\tif t in gender_target_list:\n",
    "\t\t\t\t\t\tgender_position=idx\n",
    "\t\t\t\t\t\tbreak\n",
    "\t\t\t\tif gender_position==-1:\n",
    "\t\t\t\t\tprint(\"error\")\n",
    "\t\t\t\t\tprint(tokenized_text)\n",
    "\t\t\t\t\treturn \n",
    "\n",
    "\t\t\t\tlast_four_hidden_states = outputs[-4:]\n",
    "\t\t\t\tconcated_hidden_states = torch.cat(last_four_hidden_states, dim=2)\n",
    "\t\t\t\tsentence_embedding = torch.squeeze(concated_hidden_states)[gender_position]\n",
    "\t\t\t\tsentence_embedding = torch.unsqueeze(sentence_embedding, dim=0)\n",
    "    \n",
    "\t\t\t\t\n",
    "\t\t\tembedding = torch.cat([embedding, sentence_embedding], 0)\n",
    "\t\n",
    "\t\t\tif torch.isnan(embedding).any():\n",
    "\t\t\t\tprint(sentence)\n",
    "\t\t\t\tprint(tokenized_text)\n",
    "\t\t\t\tprint(sentence_embedding)\n",
    "\t\t\t\treturn\n",
    "\n",
    "\n",
    "\t\tsum_embedding = torch.sum(embedding, 0)\n",
    "\t\tnorm_embedding = torch.nn.functional.normalize(sum_embedding, dim=0)\n",
    "\t\tnorm_embedding = torch.unsqueeze(norm_embedding, dim=0)\n",
    "\t\t# norm_embedding = torch.transpose(norm_embedding, 0, 1)\n",
    "\n",
    "\t\tembeddings = torch.cat([embeddings, norm_embedding], 1)\n",
    "\n",
    "\treturn embeddings\n",
    "\n"
   ]
  },
  {
   "cell_type": "markdown",
   "metadata": {},
   "source": [
    "## Extracting Embeddings: 2016 words + sent_debiased + sentence"
   ]
  },
  {
   "cell_type": "code",
   "execution_count": 17,
   "metadata": {},
   "outputs": [
    {
     "name": "stderr",
     "output_type": "stream",
     "text": [
      "100%|██████████| 26189/26189 [00:00<00:00, 2481523.27it/s]\n",
      "100%|██████████| 18445/18445 [00:01<00:00, 10559.97it/s]\n",
      "100%|██████████| 18445/18445 [22:15<00:00, 13.81it/s]\n"
     ]
    },
    {
     "name": "stdout",
     "output_type": "stream",
     "text": [
      "../data/extracted_positional/3. contextualised/contextualised_sentence_\n"
     ]
    }
   ],
   "source": [
    "vocab = open_pklfile(\"../data/extracted/0. original/original_word_2016_restricted_vocab.pkl\", 0)\n",
    "w2i, nouns, sentence_list = generate_noun_sentences(vocab)\n",
    "lim_wv = extract_bert_embeddings(sentence_list)\n",
    "dump_pklfile(lim_wv, f\"{save_path}2016_restricted_embeddings.pkl\", 0)\n",
    "print(save_path)"
   ]
  },
  {
   "cell_type": "markdown",
   "metadata": {},
   "source": [
    "## Extracting Embeddings: 2018 words + sent_debiased + sentence"
   ]
  },
  {
   "cell_type": "code",
   "execution_count": 16,
   "metadata": {},
   "outputs": [
    {
     "name": "stderr",
     "output_type": "stream",
     "text": [
      "100%|██████████| 47698/47698 [00:00<00:00, 2685800.56it/s]\n",
      "100%|██████████| 39385/39385 [00:03<00:00, 10453.58it/s]\n",
      "100%|██████████| 39385/39385 [48:13<00:00, 13.61it/s]\n"
     ]
    },
    {
     "name": "stdout",
     "output_type": "stream",
     "text": [
      "../data/extracted_positional/3. contextualised/contextualised_sentence_\n"
     ]
    }
   ],
   "source": [
    "vocab = open_pklfile(\"../data/extracted/0. original/original_word_2018_restricted_vocab.pkl\", 0)\n",
    "w2i, nouns, sentence_list = generate_noun_sentences(vocab)\n",
    "lim_wv = extract_bert_embeddings(sentence_list)\n",
    "dump_pklfile(lim_wv, f\"{save_path}2018_restricted_embeddings.pkl\", 0)\n",
    "print(save_path)"
   ]
  },
  {
   "cell_type": "markdown",
   "metadata": {},
   "source": [
    "## Extracting Embeddings: bert words 2500(2016) + sent_debiased + sentence"
   ]
  },
  {
   "cell_type": "code",
   "execution_count": 13,
   "metadata": {},
   "outputs": [
    {
     "name": "stderr",
     "output_type": "stream",
     "text": [
      "100%|██████████| 2500/2500 [00:00<00:00, 2359001.12it/s]\n",
      "100%|██████████| 2500/2500 [00:00<00:00, 10822.10it/s]\n",
      "100%|██████████| 2500/2500 [03:03<00:00, 13.65it/s]\n",
      "100%|██████████| 2500/2500 [00:00<00:00, 2158452.04it/s]\n",
      "100%|██████████| 2500/2500 [00:00<00:00, 10450.92it/s]\n",
      "100%|██████████| 2500/2500 [03:03<00:00, 13.64it/s]\n"
     ]
    }
   ],
   "source": [
    "vocab_male_2016 = open_pklfile(\"../data/extracted_positional/1. bert/bert_sentence_2016_male_2500_vocab.pkl\", 0)\n",
    "\n",
    "w2i_male, nouns_male, sentence_list_male=generate_noun_sentences(vocab_male_2016)\n",
    "lim_wv_male_2016 = extract_bert_embeddings(sentence_list_male)\n",
    "dump_pklfile(lim_wv_male_2016, f\"{save_path}2016_male_2500_embeddings.pkl\", 0)\n",
    "\n",
    "vocab_female_2016 = open_pklfile(\"../data/extracted_positional/1. bert/bert_sentence_2016_female_2500_vocab.pkl\", 0)\n",
    "w2i_female, nouns_female, sentence_list_female=generate_noun_sentences(vocab_female_2016)\n",
    "lim_wv_female_2016 = extract_bert_embeddings(sentence_list_female)\n",
    "dump_pklfile(lim_wv_female_2016, f\"{save_path}2016_female_2500_embeddings.pkl\", 0)"
   ]
  },
  {
   "cell_type": "markdown",
   "metadata": {},
   "source": [
    "## Extracting Embeddings: bert words 2500(2018) + sent_debiased + sentence"
   ]
  },
  {
   "cell_type": "code",
   "execution_count": 18,
   "metadata": {},
   "outputs": [
    {
     "name": "stderr",
     "output_type": "stream",
     "text": [
      "100%|██████████| 2500/2500 [00:00<00:00, 2214989.44it/s]\n",
      "100%|██████████| 2500/2500 [00:00<00:00, 10911.46it/s]\n",
      "100%|██████████| 2500/2500 [03:01<00:00, 13.81it/s]\n",
      "100%|██████████| 2500/2500 [00:00<00:00, 2242463.64it/s]\n",
      "100%|██████████| 2500/2500 [00:00<00:00, 10803.60it/s]\n",
      "100%|██████████| 2500/2500 [03:01<00:00, 13.80it/s]\n"
     ]
    }
   ],
   "source": [
    "vocab_male_2018 = open_pklfile(\"../data/extracted/1. bert/bert_sentence_2018_male_2500_vocab.pkl\", 0)\n",
    "w2i_male, nouns_male, sentence_list_male=generate_noun_sentences(vocab_male_2018)\n",
    "\n",
    "lim_wv_male_2018 = extract_bert_embeddings(sentence_list_male)\n",
    "dump_pklfile(lim_wv_male_2018, f\"{save_path}2018_male_2500_embeddings.pkl\", 0)\n",
    "\n",
    "vocab_female_2018 = open_pklfile(\"../data/extracted/1. bert/bert_sentence_2018_female_2500_vocab.pkl\", 0)\n",
    "w2i_female, nouns_female, sentence_list_female=generate_noun_sentences(vocab_female_2018)\n",
    "lim_wv_female_2018 = extract_bert_embeddings(sentence_list_female)\n",
    "dump_pklfile(lim_wv_female_2018, f\"{save_path}2018_female_2500_embeddings.pkl\", 0)"
   ]
  },
  {
   "cell_type": "markdown",
   "metadata": {},
   "source": [
    "## Extracting Embeddings: word file words + sent_debiased + sentence"
   ]
  },
  {
   "cell_type": "code",
   "execution_count": 19,
   "metadata": {},
   "outputs": [
    {
     "name": "stderr",
     "output_type": "stream",
     "text": [
      "100%|██████████| 1/1 [00:00<00:00,  1.92it/s]\n",
      "100%|██████████| 1/1 [00:00<00:00,  1.92it/s]\n"
     ]
    }
   ],
   "source": [
    "with open(\"../data/lists/male_sentence_file.txt\", 'r') as f:\n",
    "  male_sentences = [sentence.strip() for sentence in f.readlines()]\n",
    "male_sentence_embs = extract_bert_embeddings_gender([male_sentences])\n",
    "dump_pklfile(male_sentence_embs, f\"{save_path}male_word_file_embeddings.pkl\", 0)\n",
    "\n",
    "with open(\"../data/lists/female_sentence_file.txt\", 'r') as f:\n",
    "  female_sentences = [sentence.strip() for sentence in f.readlines()]\n",
    "female_sentence_embs = extract_bert_embeddings_gender([female_sentences])\n",
    "dump_pklfile(female_sentence_embs, f\"{save_path}female_word_file_embeddings.pkl\", 0)"
   ]
  },
  {
   "cell_type": "code",
   "execution_count": null,
   "metadata": {},
   "outputs": [],
   "source": []
  }
 ],
 "metadata": {
  "kernelspec": {
   "display_name": "Python 3",
   "language": "python",
   "name": "python3"
  },
  "language_info": {
   "codemirror_mode": {
    "name": "ipython",
    "version": 3
   },
   "file_extension": ".py",
   "mimetype": "text/x-python",
   "name": "python",
   "nbconvert_exporter": "python",
   "pygments_lexer": "ipython3",
   "version": "3.6.13"
  },
  "orig_nbformat": 4,
  "vscode": {
   "interpreter": {
    "hash": "99b3c50fdb7e583f08a0b5d13592b9772c4dba729469d25211555e7350dc92e8"
   }
  }
 },
 "nbformat": 4,
 "nbformat_minor": 2
}
