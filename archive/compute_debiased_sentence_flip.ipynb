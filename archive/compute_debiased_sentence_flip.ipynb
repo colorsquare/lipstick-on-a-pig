{
 "cells": [
  {
   "cell_type": "markdown",
   "metadata": {},
   "source": [
    "# Requirements"
   ]
  },
  {
   "cell_type": "code",
   "execution_count": 1,
   "metadata": {},
   "outputs": [
    {
     "name": "stdout",
     "output_type": "stream",
     "text": [
      "Requirement already satisfied: transformers in /home/team4/anaconda3/envs/exp/lib/python3.6/site-packages (4.18.0)\n",
      "Requirement already satisfied: pyyaml>=5.1 in /home/team4/anaconda3/envs/exp/lib/python3.6/site-packages (from transformers) (6.0)\n",
      "Requirement already satisfied: sacremoses in /home/team4/anaconda3/envs/exp/lib/python3.6/site-packages (from transformers) (0.0.53)\n",
      "Requirement already satisfied: numpy>=1.17 in /home/team4/anaconda3/envs/exp/lib/python3.6/site-packages (from transformers) (1.19.5)\n",
      "Requirement already satisfied: importlib-metadata in /home/team4/anaconda3/envs/exp/lib/python3.6/site-packages (from transformers) (4.8.3)\n",
      "Requirement already satisfied: requests in /home/team4/anaconda3/envs/exp/lib/python3.6/site-packages (from transformers) (2.27.1)\n",
      "Requirement already satisfied: tokenizers!=0.11.3,<0.13,>=0.11.1 in /home/team4/anaconda3/envs/exp/lib/python3.6/site-packages (from transformers) (0.12.1)\n",
      "Requirement already satisfied: packaging>=20.0 in /home/team4/anaconda3/envs/exp/lib/python3.6/site-packages (from transformers) (21.3)\n",
      "Requirement already satisfied: tqdm>=4.27 in /home/team4/anaconda3/envs/exp/lib/python3.6/site-packages (from transformers) (4.64.1)\n",
      "Requirement already satisfied: filelock in /home/team4/anaconda3/envs/exp/lib/python3.6/site-packages (from transformers) (3.4.1)\n",
      "Requirement already satisfied: dataclasses in /home/team4/anaconda3/envs/exp/lib/python3.6/site-packages (from transformers) (0.8)\n",
      "Requirement already satisfied: regex!=2019.12.17 in /home/team4/anaconda3/envs/exp/lib/python3.6/site-packages (from transformers) (2022.10.31)\n",
      "Requirement already satisfied: huggingface-hub<1.0,>=0.1.0 in /home/team4/anaconda3/envs/exp/lib/python3.6/site-packages (from transformers) (0.4.0)\n",
      "Requirement already satisfied: typing-extensions>=3.7.4.3 in /home/team4/anaconda3/envs/exp/lib/python3.6/site-packages (from huggingface-hub<1.0,>=0.1.0->transformers) (4.1.1)\n",
      "Requirement already satisfied: pyparsing!=3.0.5,>=2.0.2 in /home/team4/anaconda3/envs/exp/lib/python3.6/site-packages (from packaging>=20.0->transformers) (3.0.9)\n",
      "Requirement already satisfied: importlib-resources in /home/team4/anaconda3/envs/exp/lib/python3.6/site-packages (from tqdm>=4.27->transformers) (5.4.0)\n",
      "Requirement already satisfied: zipp>=0.5 in /home/team4/anaconda3/envs/exp/lib/python3.6/site-packages (from importlib-metadata->transformers) (3.6.0)\n",
      "Requirement already satisfied: certifi>=2017.4.17 in /home/team4/anaconda3/envs/exp/lib/python3.6/site-packages (from requests->transformers) (2021.5.30)\n",
      "Requirement already satisfied: charset-normalizer~=2.0.0 in /home/team4/anaconda3/envs/exp/lib/python3.6/site-packages (from requests->transformers) (2.0.12)\n",
      "Requirement already satisfied: urllib3<1.27,>=1.21.1 in /home/team4/anaconda3/envs/exp/lib/python3.6/site-packages (from requests->transformers) (1.26.13)\n",
      "Requirement already satisfied: idna<4,>=2.5 in /home/team4/anaconda3/envs/exp/lib/python3.6/site-packages (from requests->transformers) (3.4)\n",
      "Requirement already satisfied: joblib in /home/team4/anaconda3/envs/exp/lib/python3.6/site-packages (from sacremoses->transformers) (1.1.1)\n",
      "Requirement already satisfied: click in /home/team4/anaconda3/envs/exp/lib/python3.6/site-packages (from sacremoses->transformers) (8.0.4)\n",
      "Requirement already satisfied: six in /home/team4/anaconda3/envs/exp/lib/python3.6/site-packages (from sacremoses->transformers) (1.16.0)\n",
      "Note: you may need to restart the kernel to use updated packages.\n",
      "Requirement already satisfied: torch in /home/team4/anaconda3/envs/exp/lib/python3.6/site-packages (1.10.2)\n",
      "Requirement already satisfied: typing_extensions in /home/team4/anaconda3/envs/exp/lib/python3.6/site-packages (from torch) (4.1.1)\n",
      "Requirement already satisfied: dataclasses in /home/team4/anaconda3/envs/exp/lib/python3.6/site-packages (from torch) (0.8)\n",
      "Note: you may need to restart the kernel to use updated packages.\n",
      "Requirement already satisfied: pickle5 in /home/team4/anaconda3/envs/exp/lib/python3.6/site-packages (0.0.12)\n"
     ]
    }
   ],
   "source": [
    "%pip install transformers\n",
    "%pip install torch\n",
    "%pip install pickle5\n",
    "%pip install mpld3\n",
    "%pip install scikit-learn\n",
    "%pip install pattern3\n",
    "%pip install nltk\n",
    "%pip install pattern"
   ]
  },
  {
   "cell_type": "markdown",
   "metadata": {},
   "source": [
    "# Load pretrained Bert model and tokenizer"
   ]
  },
  {
   "cell_type": "code",
   "execution_count": 6,
   "metadata": {},
   "outputs": [
    {
     "name": "stderr",
     "output_type": "stream",
     "text": [
      "Some weights of the model checkpoint at ../debiased_models/contextualised-embeddings-bert were not used when initializing BertModel: ['cls.predictions.transform.LayerNorm.weight', 'cls.predictions.transform.LayerNorm.bias', 'cls.predictions.decoder.bias', 'cls.predictions.bias', 'cls.predictions.transform.dense.weight', 'cls.predictions.transform.dense.bias', 'cls.predictions.decoder.weight']\n",
      "- This IS expected if you are initializing BertModel from the checkpoint of a model trained on another task or with another architecture (e.g. initializing a BertForSequenceClassification model from a BertForPreTraining model).\n",
      "- This IS NOT expected if you are initializing BertModel from the checkpoint of a model that you expect to be exactly identical (initializing a BertForSequenceClassification model from a BertForSequenceClassification model).\n"
     ]
    }
   ],
   "source": [
    "import torch\n",
    "from transformers import BertTokenizer, BertModel, BertForMaskedLM, AdamW, get_linear_schedule_with_warmup\n",
    "\n",
    "# OPTIONAL: if you want to have more information on what's happening, activate the logger as follows\n",
    "import logging\n",
    "#logging.basicConfig(level=logging.INFO)\n",
    "\n",
    "import matplotlib.pyplot as plt\n",
    "%matplotlib inline\n",
    "\n",
    "debiased_model = \"sent_debiased\"\n",
    "folder_num = \"2.\"\n",
    "model_path = \"../debiased_models/sent_debias/debias-BERT/experiments/acl2020-results/QNLI/debiased_final_final\"\n",
    "model = BertModel.from_pretrained(model_path, output_hidden_states = True)\n",
    "\n",
    "# debiased_model = \"contextualised\"\n",
    "# folder_num = \"3.\"\n",
    "# model_path = \"../debiased_models/contextualised-embeddings-bert\"\n",
    "# model = BertModel.from_pretrained(model_path, output_hidden_states = True)\n",
    "\n",
    "# debiased_model = \"cds\"\n",
    "# folder_num = \"4.\"\n",
    "# model_path = \"../debiased_models/cds.pt\"\n",
    "# model = torch.load(model_path, map_location=torch.device('cpu'))\n",
    "\n",
    "save_path = f\"../data/extracted/{folder_num} {debiased_model}/{debiased_model}_sentence_\"\n",
    "\n",
    "device = torch.device(\"cuda\" if torch.cuda.is_available() else \"cpu\")\n",
    "model = model.to(device)\n",
    "model.eval()\n",
    "tokenizer = BertTokenizer.from_pretrained('bert-base-uncased')\n"
   ]
  },
  {
   "cell_type": "code",
   "execution_count": 7,
   "metadata": {},
   "outputs": [],
   "source": [
    "SINGULAR_NOUN_TEMPLATES = (\n",
    "    'This is {article} {term}.',\n",
    "    'That is {article} {term}.',\n",
    "    'There is {article} {term}.',\n",
    "    'Here is {article} {term}.',\n",
    "    'The {term} is here.',\n",
    "    'The {term} is there.',\n",
    ")\n",
    "\n",
    "PLURAL_NOUN_TEMPLATES = (\n",
    "    'These are {term}.',\n",
    "    'Those are {term}.',\n",
    "    'They are {term}.',\n",
    "    'The {term} are here.',\n",
    "    'The {term} are there.',\n",
    ")\n",
    "\n",
    "def fill_template(template, term):\n",
    "    article = (\n",
    "        'an'\n",
    "        if (\n",
    "            (\n",
    "                term.startswith('honor') or any(\n",
    "                    term.startswith(c) for c in 'aeiouAEIOU'\n",
    "                )\n",
    "            ) and not (\n",
    "                term.startswith('European') or term.startswith('Ukrainian')\n",
    "            )\n",
    "        )\n",
    "        else 'a'\n",
    "    )\n",
    "    sentence = template.format(article=article, term=term)\n",
    "    return sentence[0].upper() + sentence[1:]"
   ]
  },
  {
   "cell_type": "code",
   "execution_count": 8,
   "metadata": {},
   "outputs": [],
   "source": [
    "from pattern.en import pluralize, singularize\n",
    "import nltk\n",
    "\n",
    "def generate_noun_sentences(vocab):\n",
    "    tags = [(word, tag) for w in vocab for word, tag in nltk.pos_tag([w])]\n",
    "    nouns = [word for word, tag in tqdm(tags) if tag.startswith(\"N\")]\n",
    "    w2i = {w: i for i, w in enumerate(nouns)}\n",
    "\n",
    "    sentence_list = []\n",
    "    for term in tqdm(nouns):\n",
    "        singular_term = singularize(term)\n",
    "        sentences = []\n",
    "        sentences += [fill_template(template, singular_term) for template in SINGULAR_NOUN_TEMPLATES]\n",
    "        plurar_term = pluralize(term)\n",
    "        sentences += [fill_template(template, plurar_term) for template in PLURAL_NOUN_TEMPLATES]\n",
    "        sentence_list.append(sentences)\n",
    "    return w2i, nouns, sentence_list"
   ]
  },
  {
   "cell_type": "markdown",
   "metadata": {},
   "source": [
    "# open file and extract bert embedding function"
   ]
  },
  {
   "cell_type": "code",
   "execution_count": 9,
   "metadata": {},
   "outputs": [],
   "source": [
    "import pickle5 as pickle\n",
    "from tqdm import tqdm \n",
    "import pickle5 as pickle\n",
    "\n",
    "def dump_pklfile(file, filepath, size):\n",
    "\twith open(filepath, \"wb\") as f:\n",
    "\t\tif (size == 0):\n",
    "\t\t\tpickle.dump((file), f)\n",
    "\t\t\treturn\n",
    "\t\tif (size > 0):\n",
    "\t\t\tpickle.dump((file[:size]), f)\n",
    "\t\t\treturn\n",
    "\t\telse:\n",
    "\t\t\tpickle.dump((file[size:]), f)\n",
    "\t\t\treturn\n",
    "    \n",
    "def open_pklfile(filepath, size):\n",
    "\twith open(filepath, \"rb\") as f:\n",
    "\t\tif (size == 0):\n",
    "\t\t\treturn pickle.load(f)\n",
    "\t\treturn (pickle.load(f))[0:size]\n",
    "\n",
    "def extract_bert_embeddings(sentence_list):\n",
    "\t#init for stacking embeddings\n",
    "\tembeddings = torch.empty(0, device=device)\n",
    "\n",
    "\tfor sentences in tqdm(sentence_list):\n",
    "\t\tembedding = torch.empty(0, device=device)\n",
    "\t\tfor sentence in sentences:\n",
    "\t\t\t# Map the token strings to their vocabulary indeces.\n",
    "\t\t\tmarked_text = \"[CLS] \" + sentence + \" [SEP]\"\n",
    "\t\t\ttokenized_text = tokenizer.tokenize(marked_text)\n",
    "\t\t\t\n",
    "\t\t\t# handling such as \"wedding_dress\"\n",
    "\t\t\ttokenized_text = [token for token in tokenized_text if token != '_']\n",
    "\n",
    "\t\t\t# Split the sentence into tokens.\n",
    "\t\t\tindexed_tokens = tokenizer.convert_tokens_to_ids(tokenized_text)\n",
    "\t\t\tsegments_ids = [1] * len(tokenized_text)\n",
    "\n",
    "\t\t\t# Convert inputs to PyTorch tensors\n",
    "\t\t\ttokens_tensor = torch.tensor([indexed_tokens], device=device)\n",
    "\t\t\tsegments_tensors = torch.tensor([segments_ids], device=device)\n",
    "\n",
    "\t\t\t# Put the model in \"evaluation\" mode,meaning feed-forward operation.\n",
    "\t\t\tmodel.eval()\n",
    "\n",
    "\t\t\t# Run the text through BERT, get the output and collect all of the hidden states produced from all 12 layers.\n",
    "\t\t\twith torch.no_grad():\n",
    "\t\t\t\toutputs = model(tokens_tensor, segments_tensors).hidden_states\n",
    "\t\t\t\tlast_four_hidden_states = outputs[-4:]\n",
    "\n",
    "\t\t\t\tconcated_hidden_states = torch.cat(last_four_hidden_states, dim=2)\n",
    "\t\t\t\tconcated_hidden_states = torch.squeeze(concated_hidden_states)\n",
    "\t\t\t\t\n",
    "\t\t\t\tsentence_embedding = torch.mean(concated_hidden_states, dim=0)\n",
    "\t\t\t\tsentence_embedding = torch.unsqueeze(sentence_embedding, dim=-1)\n",
    "\n",
    "\t\t\tembedding = torch.cat([embedding, sentence_embedding], 1)\n",
    "\n",
    "\t\tsum_embedding = torch.sum(embedding, 1)\n",
    "\t\tnorm_embedding = torch.nn.functional.normalize(sum_embedding, dim=0)\n",
    "\t\tnorm_embedding = torch.unsqueeze(norm_embedding, dim=-1)\n",
    "\t\tnorm_transposed = torch.transpose(norm_embedding, 0, 1)\n",
    "\n",
    "\t\tembeddings = torch.cat([embeddings, norm_transposed], 0)\n",
    "\n",
    "\treturn embeddings"
   ]
  },
  {
   "cell_type": "markdown",
   "metadata": {},
   "source": [
    "## Extracting Embeddings: 2016 words + sent_debiased + sentence"
   ]
  },
  {
   "cell_type": "code",
   "execution_count": 11,
   "metadata": {},
   "outputs": [
    {
     "name": "stdout",
     "output_type": "stream",
     "text": [
      "26189\n",
      "26189\n"
     ]
    },
    {
     "name": "stderr",
     "output_type": "stream",
     "text": [
      "100%|██████████| 26189/26189 [00:00<00:00, 2667685.73it/s]\n"
     ]
    },
    {
     "name": "stdout",
     "output_type": "stream",
     "text": [
      "18447\n"
     ]
    },
    {
     "name": "stderr",
     "output_type": "stream",
     "text": [
      "100%|██████████| 18447/18447 [00:01<00:00, 10087.75it/s]\n",
      "100%|██████████| 18447/18447 [22:01<00:00, 13.96it/s]\n"
     ]
    },
    {
     "name": "stdout",
     "output_type": "stream",
     "text": [
      "../data/extracted/3. contextualised/contextualised_sentence_\n"
     ]
    }
   ],
   "source": [
    "vocab = open_pklfile(\"../data/extracted/0. original/original_word_2016_restricted_vocab.pkl\", 0)\n",
    "w2i, nouns, sentence_list = generate_noun_sentences(vocab)\n",
    "lim_wv = extract_bert_embeddings(sentence_list)\n",
    "dump_pklfile(lim_wv, f\"{save_path}2016_restricted_embeddings.pkl\", 0)\n",
    "print(save_path)"
   ]
  },
  {
   "cell_type": "markdown",
   "metadata": {},
   "source": [
    "## Extracting Embeddings: 2018 words + sent_debiased + sentence"
   ]
  },
  {
   "cell_type": "code",
   "execution_count": 12,
   "metadata": {},
   "outputs": [
    {
     "name": "stdout",
     "output_type": "stream",
     "text": [
      "47698\n",
      "47698\n"
     ]
    },
    {
     "name": "stderr",
     "output_type": "stream",
     "text": [
      "100%|██████████| 47698/47698 [00:00<00:00, 2625699.37it/s]\n"
     ]
    },
    {
     "name": "stdout",
     "output_type": "stream",
     "text": [
      "39385\n"
     ]
    },
    {
     "name": "stderr",
     "output_type": "stream",
     "text": [
      "100%|██████████| 39385/39385 [00:03<00:00, 10303.99it/s]\n",
      " 53%|█████▎    | 20768/39385 [25:20<22:49, 13.60it/s]"
     ]
    }
   ],
   "source": [
    "vocab = open_pklfile(\"../data/extracted/0. original/original_word_2018_restricted_vocab.pkl\", 0)\n",
    "w2i, nouns, sentence_list = generate_noun_sentences(vocab)\n",
    "lim_wv = extract_bert_embeddings(sentence_list)\n",
    "dump_pklfile(lim_wv, f\"{save_path}2018_restricted_embeddings.pkl\", 0)\n",
    "print(save_path)"
   ]
  },
  {
   "cell_type": "markdown",
   "metadata": {},
   "source": [
    "## Extracting Embeddings: bert words 2500(2016) + sent_debiased + sentence"
   ]
  },
  {
   "cell_type": "code",
   "execution_count": 9,
   "metadata": {},
   "outputs": [
    {
     "name": "stderr",
     "output_type": "stream",
     "text": [
      "100%|██████████| 2500/2500 [01:55<00:00, 21.64it/s]\n",
      "100%|██████████| 2500/2500 [02:30<00:00, 16.60it/s]\n"
     ]
    }
   ],
   "source": [
    "vocab_male_2016 = open_pklfile(\"../data/extracted/1. bert/bert_sentence_2016_male_2500_vocab.pkl\", 0)\n",
    "lim_wv_male_2016 = extract_bert_embeddings(vocab_male_2016)\n",
    "dump_pklfile(lim_wv_male_2016, f\"{save_path}2016_male_2500_embeddings.pkl\", 0)\n",
    "\n",
    "vocab_female_2016 = open_pklfile(\"../data/extracted/1. bert/bert_sentence_2016_female_2500_vocab.pkl\", 0)\n",
    "lim_wv_female_2016 = extract_bert_embeddings(vocab_female_2016)\n",
    "dump_pklfile(lim_wv_female_2016, f\"{save_path}2016_female_2500_embeddings.pkl\", 0)"
   ]
  },
  {
   "cell_type": "markdown",
   "metadata": {},
   "source": [
    "## Extracting Embeddings: bert words 2500(2018) + sent_debiased + sentence"
   ]
  },
  {
   "cell_type": "code",
   "execution_count": 10,
   "metadata": {},
   "outputs": [
    {
     "name": "stderr",
     "output_type": "stream",
     "text": [
      "100%|██████████| 2500/2500 [01:45<00:00, 23.72it/s]\n",
      "100%|██████████| 2500/2500 [01:58<00:00, 21.01it/s]\n"
     ]
    }
   ],
   "source": [
    "vocab_male_2018 = open_pklfile(\"../data/extracted/1. bert/bert_sentence_2018_male_2500_vocab.pkl\", 0)\n",
    "lim_wv_male_2018 = extract_bert_embeddings(vocab_male_2018)\n",
    "dump_pklfile(lim_wv_male_2018, f\"{save_path}2018_male_2500_embeddings.pkl\", 0)\n",
    "\n",
    "vocab_female_2018 = open_pklfile(\"../data/extracted/1. bert/bert_sentence_2018_female_2500_vocab.pkl\", 0)\n",
    "lim_wv_female_2018 = extract_bert_embeddings(vocab_female_2018)\n",
    "dump_pklfile(lim_wv_female_2018, f\"{save_path}2018_female_2500_embeddings.pkl\", 0)"
   ]
  },
  {
   "cell_type": "markdown",
   "metadata": {},
   "source": [
    "## Extracting Embeddings: word file words + sent_debiased + sentence"
   ]
  },
  {
   "cell_type": "code",
   "execution_count": 11,
   "metadata": {},
   "outputs": [
    {
     "name": "stderr",
     "output_type": "stream",
     "text": [
      "100%|██████████| 1/1 [00:00<00:00,  1.75it/s]\n",
      "100%|██████████| 1/1 [00:00<00:00,  1.93it/s]\n"
     ]
    }
   ],
   "source": [
    "with open(\"../data/lists/male_sentence_file.txt\", 'r') as f:\n",
    "  male_sentences = [sentence.strip() for sentence in f.readlines()]\n",
    "male_sentence_embs = extract_bert_embeddings([male_sentences])\n",
    "dump_pklfile(male_sentence_embs, f\"{save_path}male_word_file_embeddings.pkl\", 0)\n",
    "\n",
    "with open(\"../data/lists/female_sentence_file.txt\", 'r') as f:\n",
    "  female_sentences = [sentence.strip() for sentence in f.readlines()]\n",
    "female_sentence_embs = extract_bert_embeddings([female_sentences])\n",
    "dump_pklfile(female_sentence_embs, f\"{save_path}female_word_file_embeddings.pkl\", 0)"
   ]
  },
  {
   "cell_type": "code",
   "execution_count": null,
   "metadata": {},
   "outputs": [],
   "source": []
  }
 ],
 "metadata": {
  "kernelspec": {
   "display_name": "Python 3",
   "language": "python",
   "name": "python3"
  },
  "language_info": {
   "codemirror_mode": {
    "name": "ipython",
    "version": 3
   },
   "file_extension": ".py",
   "mimetype": "text/x-python",
   "name": "python",
   "nbconvert_exporter": "python",
   "pygments_lexer": "ipython3",
   "version": "3.6.13"
  },
  "orig_nbformat": 4,
  "vscode": {
   "interpreter": {
    "hash": "99b3c50fdb7e583f08a0b5d13592b9772c4dba729469d25211555e7350dc92e8"
   }
  }
 },
 "nbformat": 4,
 "nbformat_minor": 2
}
